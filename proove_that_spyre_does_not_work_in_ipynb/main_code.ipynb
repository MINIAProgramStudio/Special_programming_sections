{
 "cells": [
  {
   "attachments": {},
   "cell_type": "markdown",
   "metadata": {},
   "source": [
    "Лабораторна робота №3 (в файлах -- №2)\n",
    "Виконав студент групи ФІ-21\n",
    "Голуб Михайло"
   ]
  },
  {
   "attachments": {},
   "cell_type": "markdown",
   "metadata": {},
   "source": [
    "Імпортування загальних модулів:"
   ]
  },
  {
   "cell_type": "code",
   "execution_count": 2,
   "metadata": {},
   "outputs": [
    {
     "ename": "ModuleNotFoundError",
     "evalue": "No module named 'spyre'",
     "output_type": "error",
     "traceback": [
      "\u001b[1;31m---------------------------------------------------------------------------\u001b[0m",
      "\u001b[1;31mModuleNotFoundError\u001b[0m                       Traceback (most recent call last)",
      "Cell \u001b[1;32mIn[2], line 1\u001b[0m\n\u001b[1;32m----> 1\u001b[0m \u001b[39mfrom\u001b[39;00m \u001b[39mspyre\u001b[39;00m \u001b[39mimport\u001b[39;00m server\n",
      "\u001b[1;31mModuleNotFoundError\u001b[0m: No module named 'spyre'"
     ]
    }
   ],
   "source": [
    "from spyre import server"
   ]
  },
  {
   "attachments": {},
   "cell_type": "markdown",
   "metadata": {},
   "source": [
    "Імпортування власних модулів, розроблених для лабораторної №2 (в файлах -- №1):"
   ]
  },
  {
   "cell_type": "code",
   "execution_count": null,
   "metadata": {},
   "outputs": [],
   "source": [
    "import downloader\n",
    "import importer"
   ]
  },
  {
   "attachments": {},
   "cell_type": "markdown",
   "metadata": {},
   "source": [
    "Тестування Spyre:"
   ]
  },
  {
   "cell_type": "code",
   "execution_count": null,
   "metadata": {},
   "outputs": [
    {
     "ename": "AttributeError",
     "evalue": "module '__main__' has no attribute '__file__'",
     "output_type": "error",
     "traceback": [
      "\u001b[1;31m---------------------------------------------------------------------------\u001b[0m",
      "\u001b[1;31mAttributeError\u001b[0m                            Traceback (most recent call last)",
      "Cell \u001b[1;32mIn[10], line 5\u001b[0m\n\u001b[0;32m      2\u001b[0m \t\u001b[39mpass\u001b[39;00m\n\u001b[0;32m      4\u001b[0m app \u001b[39m=\u001b[39m SimpleApp()\n\u001b[1;32m----> 5\u001b[0m app\u001b[39m.\u001b[39;49mlaunch()\n",
      "File \u001b[1;32mc:\\Users\\misha\\Desktop\\універ\\спецпрога\\git\\Special_programming_sections\\lab_3\\lib\\site-packages\\spyre\\server.py:462\u001b[0m, in \u001b[0;36mApp.launch\u001b[1;34m(self, host, port, prefix, config)\u001b[0m\n\u001b[0;32m    460\u001b[0m \u001b[39mdef\u001b[39;00m \u001b[39mlaunch\u001b[39m(\u001b[39mself\u001b[39m, host\u001b[39m=\u001b[39m\u001b[39m\"\u001b[39m\u001b[39mlocal\u001b[39m\u001b[39m\"\u001b[39m, port\u001b[39m=\u001b[39m\u001b[39m8080\u001b[39m, prefix\u001b[39m=\u001b[39m\u001b[39m'\u001b[39m\u001b[39m/\u001b[39m\u001b[39m'\u001b[39m, config\u001b[39m=\u001b[39m\u001b[39mNone\u001b[39;00m):\n\u001b[0;32m    461\u001b[0m     \u001b[39mself\u001b[39m\u001b[39m.\u001b[39mprefix \u001b[39m=\u001b[39m prefix\n\u001b[1;32m--> 462\u001b[0m     webapp \u001b[39m=\u001b[39m \u001b[39mself\u001b[39;49m\u001b[39m.\u001b[39;49mgetRoot()\n\u001b[0;32m    463\u001b[0m     \u001b[39mif\u001b[39;00m host \u001b[39m!=\u001b[39m \u001b[39m\"\u001b[39m\u001b[39mlocal\u001b[39m\u001b[39m\"\u001b[39m:\n\u001b[0;32m    464\u001b[0m         cherrypy\u001b[39m.\u001b[39mserver\u001b[39m.\u001b[39msocket_host \u001b[39m=\u001b[39m \u001b[39m'\u001b[39m\u001b[39m0.0.0.0\u001b[39m\u001b[39m'\u001b[39m\n",
      "File \u001b[1;32mc:\\Users\\misha\\Desktop\\універ\\спецпрога\\git\\Special_programming_sections\\lab_3\\lib\\site-packages\\spyre\\server.py:483\u001b[0m, in \u001b[0;36mApp.getRoot\u001b[1;34m(self)\u001b[0m\n\u001b[0;32m    482\u001b[0m \u001b[39mdef\u001b[39;00m \u001b[39mgetRoot\u001b[39m(\u001b[39mself\u001b[39m):\n\u001b[1;32m--> 483\u001b[0m     webapp \u001b[39m=\u001b[39m Root(\n\u001b[0;32m    484\u001b[0m         templateVars\u001b[39m=\u001b[39;49m\u001b[39mself\u001b[39;49m\u001b[39m.\u001b[39;49mtemplateVars,\n\u001b[0;32m    485\u001b[0m         title\u001b[39m=\u001b[39;49m\u001b[39mself\u001b[39;49m\u001b[39m.\u001b[39;49mtitle,\n\u001b[0;32m    486\u001b[0m         inputs\u001b[39m=\u001b[39;49m\u001b[39mself\u001b[39;49m\u001b[39m.\u001b[39;49minputs,\n\u001b[0;32m    487\u001b[0m         outputs\u001b[39m=\u001b[39;49m\u001b[39mself\u001b[39;49m\u001b[39m.\u001b[39;49moutputs,\n\u001b[0;32m    488\u001b[0m         controls\u001b[39m=\u001b[39;49m\u001b[39mself\u001b[39;49m\u001b[39m.\u001b[39;49mcontrols,\n\u001b[0;32m    489\u001b[0m         tabs\u001b[39m=\u001b[39;49m\u001b[39mself\u001b[39;49m\u001b[39m.\u001b[39;49mtabs,\n\u001b[0;32m    490\u001b[0m         spinnerFile\u001b[39m=\u001b[39;49m\u001b[39mself\u001b[39;49m\u001b[39m.\u001b[39;49mspinnerFile,\n\u001b[0;32m    491\u001b[0m         getJsonDataFunction\u001b[39m=\u001b[39;49m\u001b[39mself\u001b[39;49m\u001b[39m.\u001b[39;49mgetJsonData,\n\u001b[0;32m    492\u001b[0m         getDataFunction\u001b[39m=\u001b[39;49m\u001b[39mself\u001b[39;49m\u001b[39m.\u001b[39;49mgetData,\n\u001b[0;32m    493\u001b[0m         getTableFunction\u001b[39m=\u001b[39;49m\u001b[39mself\u001b[39;49m\u001b[39m.\u001b[39;49mgetTable,\n\u001b[0;32m    494\u001b[0m         getPlotFunction\u001b[39m=\u001b[39;49m\u001b[39mself\u001b[39;49m\u001b[39m.\u001b[39;49mgetPlot,\n\u001b[0;32m    495\u001b[0m         getImageFunction\u001b[39m=\u001b[39;49m\u001b[39mself\u001b[39;49m\u001b[39m.\u001b[39;49mgetImage,\n\u001b[0;32m    496\u001b[0m         getD3Function\u001b[39m=\u001b[39;49m\u001b[39mself\u001b[39;49m\u001b[39m.\u001b[39;49mgetD3,\n\u001b[0;32m    497\u001b[0m         getCustomJSFunction\u001b[39m=\u001b[39;49m\u001b[39mself\u001b[39;49m\u001b[39m.\u001b[39;49mgetCustomJS,\n\u001b[0;32m    498\u001b[0m         getCustomCSSFunction\u001b[39m=\u001b[39;49m\u001b[39mself\u001b[39;49m\u001b[39m.\u001b[39;49mgetCustomCSS,\n\u001b[0;32m    499\u001b[0m         getCustomHeadFunction\u001b[39m=\u001b[39;49m\u001b[39mself\u001b[39;49m\u001b[39m.\u001b[39;49mgetCustomHead,\n\u001b[0;32m    500\u001b[0m         getHTMLFunction\u001b[39m=\u001b[39;49m\u001b[39mself\u001b[39;49m\u001b[39m.\u001b[39;49mgetHTML,\n\u001b[0;32m    501\u001b[0m         getDownloadFunction\u001b[39m=\u001b[39;49m\u001b[39mself\u001b[39;49m\u001b[39m.\u001b[39;49mgetDownload,\n\u001b[0;32m    502\u001b[0m         noOutputFunction\u001b[39m=\u001b[39;49m\u001b[39mself\u001b[39;49m\u001b[39m.\u001b[39;49mnoOutput,\n\u001b[0;32m    503\u001b[0m         storeUploadFunction\u001b[39m=\u001b[39;49m\u001b[39mself\u001b[39;49m\u001b[39m.\u001b[39;49mstoreUpload,\n\u001b[0;32m    504\u001b[0m         prefix\u001b[39m=\u001b[39;49m\u001b[39mself\u001b[39;49m\u001b[39m.\u001b[39;49mprefix\n\u001b[0;32m    505\u001b[0m     )\n\u001b[0;32m    507\u001b[0m     \u001b[39mreturn\u001b[39;00m webapp\n",
      "File \u001b[1;32mc:\\Users\\misha\\Desktop\\універ\\спецпрога\\git\\Special_programming_sections\\lab_3\\lib\\site-packages\\spyre\\server.py:133\u001b[0m, in \u001b[0;36mRoot.__init__\u001b[1;34m(self, templateVars, title, inputs, outputs, controls, tabs, spinnerFile, getJsonDataFunction, getDataFunction, getTableFunction, getPlotFunction, getImageFunction, getD3Function, getCustomCSSFunction, getCustomJSFunction, getCustomHeadFunction, getHTMLFunction, getDownloadFunction, noOutputFunction, storeUploadFunction, prefix)\u001b[0m\n\u001b[0;32m    130\u001b[0m \u001b[39mself\u001b[39m\u001b[39m.\u001b[39mtemplateVars[\u001b[39m'\u001b[39m\u001b[39mcustom_css\u001b[39m\u001b[39m'\u001b[39m] \u001b[39m=\u001b[39m custom_css\n\u001b[0;32m    131\u001b[0m \u001b[39mself\u001b[39m\u001b[39m.\u001b[39mtemplateVars[\u001b[39m'\u001b[39m\u001b[39mcustom_head\u001b[39m\u001b[39m'\u001b[39m] \u001b[39m=\u001b[39m custom_head\n\u001b[1;32m--> 133\u001b[0m v \u001b[39m=\u001b[39m View\u001b[39m.\u001b[39;49mView()\n\u001b[0;32m    134\u001b[0m \u001b[39mself\u001b[39m\u001b[39m.\u001b[39mtemplateVars[\u001b[39m'\u001b[39m\u001b[39mdocument_ready_js\u001b[39m\u001b[39m'\u001b[39m] \u001b[39m=\u001b[39m \u001b[39m\"\u001b[39m\u001b[39m\"\u001b[39m\n\u001b[0;32m    135\u001b[0m \u001b[39mself\u001b[39m\u001b[39m.\u001b[39mtemplateVars[\u001b[39m'\u001b[39m\u001b[39mjs\u001b[39m\u001b[39m'\u001b[39m] \u001b[39m=\u001b[39m v\u001b[39m.\u001b[39mgetJS()\n",
      "File \u001b[1;32mc:\\Users\\misha\\Desktop\\універ\\спецпрога\\git\\Special_programming_sections\\lab_3\\lib\\site-packages\\spyre\\View.py:23\u001b[0m, in \u001b[0;36mView.__init__\u001b[1;34m(self)\u001b[0m\n\u001b[0;32m     21\u001b[0m \u001b[39mself\u001b[39m\u001b[39m.\u001b[39mJS_PATH \u001b[39m=\u001b[39m os\u001b[39m.\u001b[39mpath\u001b[39m.\u001b[39mjoin(\u001b[39mself\u001b[39m\u001b[39m.\u001b[39mROOT_DIR, \u001b[39m'\u001b[39m\u001b[39mpublic\u001b[39m\u001b[39m'\u001b[39m, \u001b[39m'\u001b[39m\u001b[39mjs\u001b[39m\u001b[39m'\u001b[39m)\n\u001b[0;32m     22\u001b[0m \u001b[39mself\u001b[39m\u001b[39m.\u001b[39mCSS_PATH \u001b[39m=\u001b[39m os\u001b[39m.\u001b[39mpath\u001b[39m.\u001b[39mjoin(\u001b[39mself\u001b[39m\u001b[39m.\u001b[39mROOT_DIR, \u001b[39m'\u001b[39m\u001b[39mpublic\u001b[39m\u001b[39m'\u001b[39m, \u001b[39m'\u001b[39m\u001b[39mcss\u001b[39m\u001b[39m'\u001b[39m)\n\u001b[1;32m---> 23\u001b[0m \u001b[39mself\u001b[39m\u001b[39m.\u001b[39mAPP_PATH \u001b[39m=\u001b[39m os\u001b[39m.\u001b[39mpath\u001b[39m.\u001b[39mdirname(os\u001b[39m.\u001b[39mpath\u001b[39m.\u001b[39mrealpath(__main__\u001b[39m.\u001b[39;49m\u001b[39m__file__\u001b[39;49m))\n",
      "\u001b[1;31mAttributeError\u001b[0m: module '__main__' has no attribute '__file__'"
     ]
    }
   ],
   "source": [
    "class SimpleApp(server.App):\n",
    "\tpass\n",
    "\n",
    "app = SimpleApp()"
   ]
  }
 ],
 "metadata": {
  "kernelspec": {
   "display_name": "Python 3",
   "language": "python",
   "name": "python3"
  },
  "language_info": {
   "codemirror_mode": {
    "name": "ipython",
    "version": 3
   },
   "file_extension": ".py",
   "mimetype": "text/x-python",
   "name": "python",
   "nbconvert_exporter": "python",
   "pygments_lexer": "ipython3",
   "version": "3.9.13"
  },
  "orig_nbformat": 4,
  "vscode": {
   "interpreter": {
    "hash": "6d3d051af8c9d0f224e3d81156bf03b2e806cbe0b89d68876ee4227e7aed1e98"
   }
  }
 },
 "nbformat": 4,
 "nbformat_minor": 2
}
