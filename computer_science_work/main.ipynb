{
 "cells": [
  {
   "cell_type": "code",
   "execution_count": 1,
   "id": "40be39f6-5b7c-49ed-bf49-a0c7940b5f0f",
   "metadata": {
    "tags": []
   },
   "outputs": [],
   "source": [
    "import pandas as pd\n",
    "import copy"
   ]
  },
  {
   "cell_type": "code",
   "execution_count": 2,
   "id": "1d6de27c-d2aa-4ae5-870c-66e341c8a376",
   "metadata": {
    "tags": []
   },
   "outputs": [],
   "source": [
    "trains_dataframe = pd.read_csv(\"dataset/Regularities_by_liaisons_Trains_France.csv\")"
   ]
  },
  {
   "cell_type": "code",
   "execution_count": 3,
   "id": "1c39532e-12e7-4caf-8ce5-4a5304782956",
   "metadata": {},
   "outputs": [
    {
     "name": "stdout",
     "output_type": "stream",
     "text": [
      "True\n"
     ]
    }
   ],
   "source": [
    "print(trains_dataframe.isnull().values.any())\n"
   ]
  },
  {
   "cell_type": "code",
   "execution_count": 4,
   "id": "3308928c-d888-4353-9b59-dc060587add5",
   "metadata": {},
   "outputs": [],
   "source": [
    "trains_dataframe = trains_dataframe.drop(columns=['Comment (optional) delays at departure','Comment (optional) delays on arrival'])"
   ]
  },
  {
   "cell_type": "code",
   "execution_count": 5,
   "id": "33c7440d-4b19-4961-8687-bae0ecf15010",
   "metadata": {
    "tags": []
   },
   "outputs": [
    {
     "data": {
      "text/html": [
       "<style type=\"text/css\">\n",
       "#T_d8086_row3_col10, #T_d8086_row3_col20, #T_d8086_row8_col4, #T_d8086_row9_col12 {\n",
       "  background-color: red;\n",
       "}\n",
       "#T_d8086_row5_col4, #T_d8086_row7_col20, #T_d8086_row10_col10, #T_d8086_row10_col12 {\n",
       "  background-color: green;\n",
       "}\n",
       "</style>\n",
       "<table id=\"T_d8086\">\n",
       "  <thead>\n",
       "    <tr>\n",
       "      <th class=\"blank level0\" >&nbsp;</th>\n",
       "      <th id=\"T_d8086_level0_col4\" class=\"col_heading level0 col4\" >Average travel time (min)</th>\n",
       "      <th id=\"T_d8086_level0_col10\" class=\"col_heading level0 col10\" >Number of trains late on arrival</th>\n",
       "      <th id=\"T_d8086_level0_col12\" class=\"col_heading level0 col12\" >Average delay of all arriving trains (min)</th>\n",
       "      <th id=\"T_d8086_level0_col20\" class=\"col_heading level0 col20\" >Average train delay > 15min</th>\n",
       "    </tr>\n",
       "  </thead>\n",
       "  <tbody>\n",
       "    <tr>\n",
       "      <th id=\"T_d8086_level0_row0\" class=\"row_heading level0 row0\" >0</th>\n",
       "      <td id=\"T_d8086_row0_col4\" class=\"data row0 col4\" >131.914980</td>\n",
       "      <td id=\"T_d8086_row0_col10\" class=\"data row0 col10\" >41.000000</td>\n",
       "      <td id=\"T_d8086_row0_col12\" class=\"data row0 col12\" >5.233333</td>\n",
       "      <td id=\"T_d8086_row0_col20\" class=\"data row0 col20\" >32.965873</td>\n",
       "    </tr>\n",
       "    <tr>\n",
       "      <th id=\"T_d8086_level0_row1\" class=\"row_heading level0 row1\" >1</th>\n",
       "      <td id=\"T_d8086_row1_col4\" class=\"data row1 col4\" >175.611570</td>\n",
       "      <td id=\"T_d8086_row1_col10\" class=\"data row1 col10\" >47.000000</td>\n",
       "      <td id=\"T_d8086_row1_col12\" class=\"data row1 col12\" >6.123967</td>\n",
       "      <td id=\"T_d8086_row1_col20\" class=\"data row1 col20\" >32.057143</td>\n",
       "    </tr>\n",
       "    <tr>\n",
       "      <th id=\"T_d8086_level0_row2\" class=\"row_heading level0 row2\" >2</th>\n",
       "      <td id=\"T_d8086_row2_col4\" class=\"data row2 col4\" >62.395349</td>\n",
       "      <td id=\"T_d8086_row2_col10\" class=\"data row2 col10\" >91.000000</td>\n",
       "      <td id=\"T_d8086_row2_col12\" class=\"data row2 col12\" >4.430194</td>\n",
       "      <td id=\"T_d8086_row2_col20\" class=\"data row2 col20\" >42.367241</td>\n",
       "    </tr>\n",
       "    <tr>\n",
       "      <th id=\"T_d8086_level0_row3\" class=\"row_heading level0 row3\" >3</th>\n",
       "      <td id=\"T_d8086_row3_col4\" class=\"data row3 col4\" >172.421053</td>\n",
       "      <td id=\"T_d8086_row3_col10\" class=\"data row3 col10\" >15.000000</td>\n",
       "      <td id=\"T_d8086_row3_col12\" class=\"data row3 col12\" >3.812135</td>\n",
       "      <td id=\"T_d8086_row3_col20\" class=\"data row3 col20\" >27.620833</td>\n",
       "    </tr>\n",
       "    <tr>\n",
       "      <th id=\"T_d8086_level0_row4\" class=\"row_heading level0 row4\" >4</th>\n",
       "      <td id=\"T_d8086_row4_col4\" class=\"data row4 col4\" >67.310000</td>\n",
       "      <td id=\"T_d8086_row4_col10\" class=\"data row4 col10\" >73.000000</td>\n",
       "      <td id=\"T_d8086_row4_col12\" class=\"data row4 col12\" >4.176208</td>\n",
       "      <td id=\"T_d8086_row4_col20\" class=\"data row4 col20\" >37.658333</td>\n",
       "    </tr>\n",
       "    <tr>\n",
       "      <th id=\"T_d8086_level0_row5\" class=\"row_heading level0 row5\" >5</th>\n",
       "      <td id=\"T_d8086_row5_col4\" class=\"data row5 col4\" >266.594737</td>\n",
       "      <td id=\"T_d8086_row5_col10\" class=\"data row5 col10\" >28.000000</td>\n",
       "      <td id=\"T_d8086_row5_col12\" class=\"data row5 col12\" >8.422105</td>\n",
       "      <td id=\"T_d8086_row5_col20\" class=\"data row5 col20\" >47.343452</td>\n",
       "    </tr>\n",
       "    <tr>\n",
       "      <th id=\"T_d8086_level0_row6\" class=\"row_heading level0 row6\" >6</th>\n",
       "      <td id=\"T_d8086_row6_col4\" class=\"data row6 col4\" >265.262887</td>\n",
       "      <td id=\"T_d8086_row6_col10\" class=\"data row6 col10\" >29.000000</td>\n",
       "      <td id=\"T_d8086_row6_col12\" class=\"data row6 col12\" >8.407474</td>\n",
       "      <td id=\"T_d8086_row6_col20\" class=\"data row6 col20\" >45.610920</td>\n",
       "    </tr>\n",
       "    <tr>\n",
       "      <th id=\"T_d8086_level0_row7\" class=\"row_heading level0 row7\" >7</th>\n",
       "      <td id=\"T_d8086_row7_col4\" class=\"data row7 col4\" >85.399381</td>\n",
       "      <td id=\"T_d8086_row7_col10\" class=\"data row7 col10\" >52.000000</td>\n",
       "      <td id=\"T_d8086_row7_col12\" class=\"data row7 col12\" >5.523633</td>\n",
       "      <td id=\"T_d8086_row7_col20\" class=\"data row7 col20\" >60.874405</td>\n",
       "    </tr>\n",
       "    <tr>\n",
       "      <th id=\"T_d8086_level0_row8\" class=\"row_heading level0 row8\" >8</th>\n",
       "      <td id=\"T_d8086_row8_col4\" class=\"data row8 col4\" >46.305556</td>\n",
       "      <td id=\"T_d8086_row8_col10\" class=\"data row8 col10\" >36.000000</td>\n",
       "      <td id=\"T_d8086_row8_col12\" class=\"data row8 col12\" >5.154244</td>\n",
       "      <td id=\"T_d8086_row8_col20\" class=\"data row8 col20\" >47.841667</td>\n",
       "    </tr>\n",
       "    <tr>\n",
       "      <th id=\"T_d8086_level0_row9\" class=\"row_heading level0 row9\" >9</th>\n",
       "      <td id=\"T_d8086_row9_col4\" class=\"data row9 col4\" >67.000000</td>\n",
       "      <td id=\"T_d8086_row9_col10\" class=\"data row9 col10\" >30.000000</td>\n",
       "      <td id=\"T_d8086_row9_col12\" class=\"data row9 col12\" >3.633051</td>\n",
       "      <td id=\"T_d8086_row9_col20\" class=\"data row9 col20\" >35.613889</td>\n",
       "    </tr>\n",
       "    <tr>\n",
       "      <th id=\"T_d8086_level0_row10\" class=\"row_heading level0 row10\" >10</th>\n",
       "      <td id=\"T_d8086_row10_col4\" class=\"data row10 col4\" >187.298643</td>\n",
       "      <td id=\"T_d8086_row10_col10\" class=\"data row10 col10\" >94.000000</td>\n",
       "      <td id=\"T_d8086_row10_col12\" class=\"data row10 col12\" >15.283786</td>\n",
       "      <td id=\"T_d8086_row10_col20\" class=\"data row10 col20\" >34.342593</td>\n",
       "    </tr>\n",
       "  </tbody>\n",
       "</table>\n"
      ],
      "text/plain": [
       "<pandas.io.formats.style.Styler at 0x2039d887cd0>"
      ]
     },
     "execution_count": 5,
     "metadata": {},
     "output_type": "execute_result"
    }
   ],
   "source": [
    "visualisation = trains_dataframe[0:11].style.hide(['Year', 'Month', 'Departure station', 'Arrival station',\n",
    "                                             'Number of expected circulations',\n",
    "                                             'Number of cancelled trains', 'Number of late trains at departure',\n",
    "                                             'Average delay of late departing trains (min)',\n",
    "                                             'Average delay of all departing trains (min)',\n",
    "                                             'Average delay of late arriving trains (min)',\n",
    "                                             '% trains late due to external causes (weather, obstacles, suspicious packages, malevolence, social movements, etc.)',\n",
    "                                             '% trains late due to railway infrastructure (maintenance, works)',\n",
    "                                             '% trains late due to traffic management (rail line traffic, network interactions)',\n",
    "                                             '% trains late due to rolling stock',\n",
    "                                             '% trains late due to station management and reuse of material',\n",
    "                                             '% trains late due to passenger traffic (affluence, PSH management, connections)',\n",
    "                                             'Number of late trains > 15min',\n",
    "                                             'Number of late trains > 30min', 'Number of late trains > 60min', 'Period',\n",
    "                                             'Delay due to external causes', 'Delay due to railway infrastructure',\n",
    "                                             'Delay due to traffic management', 'Delay due to rolling stock',\n",
    "                                             'Delay due to station management and reuse of material',\n",
    "                                             'Delay due to travellers taken into account'], axis=\"columns\")\n",
    "\n",
    "visualisation.highlight_max(color='green').highlight_min(color='red')"
   ]
  },
  {
   "cell_type": "code",
   "execution_count": 6,
   "id": "7e5ae17b-4a91-4f32-a24c-ae0629666f59",
   "metadata": {},
   "outputs": [
    {
     "name": "stdout",
     "output_type": "stream",
     "text": [
      "False\n"
     ]
    }
   ],
   "source": [
    "del trains_dataframe\n",
    "trains_dataframe = pd.read_csv(\"dataset/Regularities_by_liaisons_Trains_France.csv\")\n",
    "\n",
    "trains_dataframe = trains_dataframe.drop(columns=['Comment (optional) delays at departure','Comment (optional) delays on arrival'])\n",
    "trains_dataframe = trains_dataframe.dropna()\n",
    "print(trains_dataframe.isnull().values.any())\n",
    "trains_dataframe_numerical = trains_dataframe.drop(columns=['Year', 'Month', 'Departure station', 'Arrival station'])"
   ]
  },
  {
   "cell_type": "code",
   "execution_count": 8,
   "id": "52bd27d7-e35c-407a-a529-5f8cce1d3ea6",
   "metadata": {
    "tags": []
   },
   "outputs": [],
   "source": [
    "def standartizatinator(input_column):\n",
    "    values = []\n",
    "    probability = []\n",
    "    length = len(input_column)\n",
    "    for element in input_column:\n",
    "        if element in values:\n",
    "            probability[values.index(element)]+=1\n",
    "        else:\n",
    "            probability.append(1)\n",
    "            values.append(element)\n",
    "    i = 0\n",
    "    mu = 0\n",
    "    while i < len(values):\n",
    "        \n",
    "        mu+=probability[i]*values[i]/length\n",
    "        i+=1\n",
    "    \n",
    "    avg = sum(input_column)/length\n",
    "    i = 0\n",
    "    some_weird_letter = 0\n",
    "    for i in input_column:\n",
    "        some_weird_letter += i-avg\n",
    "    \n",
    "    some_weird_letter = (abs(some_weird_letter/(len(input_column)-1)))**(1/2)\n",
    "    i = 0\n",
    "    while i < len(input_column):\n",
    "        input_column[i] = (input_column[i]-mu)/some_weird_letter\n",
    "        i+=1\n",
    "    return input_column"
   ]
  },
  {
   "cell_type": "code",
   "execution_count": 10,
   "id": "7f8ca4de-ceb2-44e7-84dd-185e7a3d2dee",
   "metadata": {
    "tags": []
   },
   "outputs": [
    {
     "name": "stderr",
     "output_type": "stream",
     "text": [
      "C:\\Users\\misha\\AppData\\Local\\Temp\\ipykernel_33192\\242169109.py:27: SettingWithCopyWarning: \n",
      "A value is trying to be set on a copy of a slice from a DataFrame\n",
      "\n",
      "See the caveats in the documentation: https://pandas.pydata.org/pandas-docs/stable/user_guide/indexing.html#returning-a-view-versus-a-copy\n",
      "  input_column[i] = (input_column[i]-mu)/some_weird_letter\n"
     ]
    },
    {
     "ename": "KeyError",
     "evalue": "12",
     "output_type": "error",
     "traceback": [
      "\u001b[1;31m---------------------------------------------------------------------------\u001b[0m",
      "\u001b[1;31mKeyError\u001b[0m                                  Traceback (most recent call last)",
      "File \u001b[1;32mD:\\Programms\\Anaconda\\Lib\\site-packages\\pandas\\core\\indexes\\base.py:3802\u001b[0m, in \u001b[0;36mIndex.get_loc\u001b[1;34m(self, key, method, tolerance)\u001b[0m\n\u001b[0;32m   3801\u001b[0m \u001b[38;5;28;01mtry\u001b[39;00m:\n\u001b[1;32m-> 3802\u001b[0m     \u001b[38;5;28;01mreturn\u001b[39;00m \u001b[38;5;28mself\u001b[39m\u001b[38;5;241m.\u001b[39m_engine\u001b[38;5;241m.\u001b[39mget_loc(casted_key)\n\u001b[0;32m   3803\u001b[0m \u001b[38;5;28;01mexcept\u001b[39;00m \u001b[38;5;167;01mKeyError\u001b[39;00m \u001b[38;5;28;01mas\u001b[39;00m err:\n",
      "File \u001b[1;32mD:\\Programms\\Anaconda\\Lib\\site-packages\\pandas\\_libs\\index.pyx:138\u001b[0m, in \u001b[0;36mpandas._libs.index.IndexEngine.get_loc\u001b[1;34m()\u001b[0m\n",
      "File \u001b[1;32mD:\\Programms\\Anaconda\\Lib\\site-packages\\pandas\\_libs\\index.pyx:165\u001b[0m, in \u001b[0;36mpandas._libs.index.IndexEngine.get_loc\u001b[1;34m()\u001b[0m\n",
      "File \u001b[1;32mpandas\\_libs\\hashtable_class_helper.pxi:2263\u001b[0m, in \u001b[0;36mpandas._libs.hashtable.Int64HashTable.get_item\u001b[1;34m()\u001b[0m\n",
      "File \u001b[1;32mpandas\\_libs\\hashtable_class_helper.pxi:2273\u001b[0m, in \u001b[0;36mpandas._libs.hashtable.Int64HashTable.get_item\u001b[1;34m()\u001b[0m\n",
      "\u001b[1;31mKeyError\u001b[0m: 12",
      "\nThe above exception was the direct cause of the following exception:\n",
      "\u001b[1;31mKeyError\u001b[0m                                  Traceback (most recent call last)",
      "Cell \u001b[1;32mIn[10], line 2\u001b[0m\n\u001b[0;32m      1\u001b[0m trains_dataframe_numerical_standart \u001b[38;5;241m=\u001b[39m trains_dataframe_numerical\n\u001b[1;32m----> 2\u001b[0m trains_dataframe_numerical_standart[\u001b[38;5;124m'\u001b[39m\u001b[38;5;124mNumber of expected circulations\u001b[39m\u001b[38;5;124m'\u001b[39m] \u001b[38;5;241m=\u001b[39m standartizatinator(trains_dataframe_numerical[\u001b[38;5;124m'\u001b[39m\u001b[38;5;124mNumber of expected circulations\u001b[39m\u001b[38;5;124m'\u001b[39m])\n",
      "Cell \u001b[1;32mIn[8], line 27\u001b[0m, in \u001b[0;36mstandartizatinator\u001b[1;34m(input_column)\u001b[0m\n\u001b[0;32m     25\u001b[0m i \u001b[38;5;241m=\u001b[39m \u001b[38;5;241m0\u001b[39m\n\u001b[0;32m     26\u001b[0m \u001b[38;5;28;01mwhile\u001b[39;00m i \u001b[38;5;241m<\u001b[39m \u001b[38;5;28mlen\u001b[39m(input_column):\n\u001b[1;32m---> 27\u001b[0m     input_column[i] \u001b[38;5;241m=\u001b[39m (input_column[i]\u001b[38;5;241m-\u001b[39mmu)\u001b[38;5;241m/\u001b[39msome_weird_letter\n\u001b[0;32m     28\u001b[0m     i\u001b[38;5;241m+\u001b[39m\u001b[38;5;241m=\u001b[39m\u001b[38;5;241m1\u001b[39m\n\u001b[0;32m     29\u001b[0m \u001b[38;5;28;01mreturn\u001b[39;00m input_column\n",
      "File \u001b[1;32mD:\\Programms\\Anaconda\\Lib\\site-packages\\pandas\\core\\series.py:981\u001b[0m, in \u001b[0;36mSeries.__getitem__\u001b[1;34m(self, key)\u001b[0m\n\u001b[0;32m    978\u001b[0m     \u001b[38;5;28;01mreturn\u001b[39;00m \u001b[38;5;28mself\u001b[39m\u001b[38;5;241m.\u001b[39m_values[key]\n\u001b[0;32m    980\u001b[0m \u001b[38;5;28;01melif\u001b[39;00m key_is_scalar:\n\u001b[1;32m--> 981\u001b[0m     \u001b[38;5;28;01mreturn\u001b[39;00m \u001b[38;5;28mself\u001b[39m\u001b[38;5;241m.\u001b[39m_get_value(key)\n\u001b[0;32m    983\u001b[0m \u001b[38;5;28;01mif\u001b[39;00m is_hashable(key):\n\u001b[0;32m    984\u001b[0m     \u001b[38;5;66;03m# Otherwise index.get_value will raise InvalidIndexError\u001b[39;00m\n\u001b[0;32m    985\u001b[0m     \u001b[38;5;28;01mtry\u001b[39;00m:\n\u001b[0;32m    986\u001b[0m         \u001b[38;5;66;03m# For labels that don't resolve as scalars like tuples and frozensets\u001b[39;00m\n",
      "File \u001b[1;32mD:\\Programms\\Anaconda\\Lib\\site-packages\\pandas\\core\\series.py:1089\u001b[0m, in \u001b[0;36mSeries._get_value\u001b[1;34m(self, label, takeable)\u001b[0m\n\u001b[0;32m   1086\u001b[0m     \u001b[38;5;28;01mreturn\u001b[39;00m \u001b[38;5;28mself\u001b[39m\u001b[38;5;241m.\u001b[39m_values[label]\n\u001b[0;32m   1088\u001b[0m \u001b[38;5;66;03m# Similar to Index.get_value, but we do not fall back to positional\u001b[39;00m\n\u001b[1;32m-> 1089\u001b[0m loc \u001b[38;5;241m=\u001b[39m \u001b[38;5;28mself\u001b[39m\u001b[38;5;241m.\u001b[39mindex\u001b[38;5;241m.\u001b[39mget_loc(label)\n\u001b[0;32m   1090\u001b[0m \u001b[38;5;28;01mreturn\u001b[39;00m \u001b[38;5;28mself\u001b[39m\u001b[38;5;241m.\u001b[39mindex\u001b[38;5;241m.\u001b[39m_get_values_for_loc(\u001b[38;5;28mself\u001b[39m, loc, label)\n",
      "File \u001b[1;32mD:\\Programms\\Anaconda\\Lib\\site-packages\\pandas\\core\\indexes\\base.py:3804\u001b[0m, in \u001b[0;36mIndex.get_loc\u001b[1;34m(self, key, method, tolerance)\u001b[0m\n\u001b[0;32m   3802\u001b[0m     \u001b[38;5;28;01mreturn\u001b[39;00m \u001b[38;5;28mself\u001b[39m\u001b[38;5;241m.\u001b[39m_engine\u001b[38;5;241m.\u001b[39mget_loc(casted_key)\n\u001b[0;32m   3803\u001b[0m \u001b[38;5;28;01mexcept\u001b[39;00m \u001b[38;5;167;01mKeyError\u001b[39;00m \u001b[38;5;28;01mas\u001b[39;00m err:\n\u001b[1;32m-> 3804\u001b[0m     \u001b[38;5;28;01mraise\u001b[39;00m \u001b[38;5;167;01mKeyError\u001b[39;00m(key) \u001b[38;5;28;01mfrom\u001b[39;00m \u001b[38;5;21;01merr\u001b[39;00m\n\u001b[0;32m   3805\u001b[0m \u001b[38;5;28;01mexcept\u001b[39;00m \u001b[38;5;167;01mTypeError\u001b[39;00m:\n\u001b[0;32m   3806\u001b[0m     \u001b[38;5;66;03m# If we have a listlike key, _check_indexing_error will raise\u001b[39;00m\n\u001b[0;32m   3807\u001b[0m     \u001b[38;5;66;03m#  InvalidIndexError. Otherwise we fall through and re-raise\u001b[39;00m\n\u001b[0;32m   3808\u001b[0m     \u001b[38;5;66;03m#  the TypeError.\u001b[39;00m\n\u001b[0;32m   3809\u001b[0m     \u001b[38;5;28mself\u001b[39m\u001b[38;5;241m.\u001b[39m_check_indexing_error(key)\n",
      "\u001b[1;31mKeyError\u001b[0m: 12"
     ]
    }
   ],
   "source": [
    "trains_dataframe_numerical_standart = trains_dataframe_numerical\n",
    "trains_dataframe_numerical_standart['Number of expected circulations'] = standartizatinator(trains_dataframe_numerical['Number of expected circulations'])"
   ]
  },
  {
   "cell_type": "code",
   "execution_count": null,
   "id": "0c5a4eec-7d3c-42c6-b8eb-4906bbdc53b4",
   "metadata": {
    "tags": []
   },
   "outputs": [],
   "source": []
  },
  {
   "cell_type": "code",
   "execution_count": null,
   "id": "f10f1412-553e-43b8-a7a2-6c97eefc2c39",
   "metadata": {},
   "outputs": [],
   "source": []
  }
 ],
 "metadata": {
  "kernelspec": {
   "display_name": "Python 3 (ipykernel)",
   "language": "python",
   "name": "python3"
  },
  "language_info": {
   "codemirror_mode": {
    "name": "ipython",
    "version": 3
   },
   "file_extension": ".py",
   "mimetype": "text/x-python",
   "name": "python",
   "nbconvert_exporter": "python",
   "pygments_lexer": "ipython3",
   "version": "3.11.4"
  }
 },
 "nbformat": 4,
 "nbformat_minor": 5
}
