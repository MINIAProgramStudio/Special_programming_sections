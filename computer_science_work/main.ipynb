{
 "cells": [
  {
   "cell_type": "markdown",
   "id": "caba1740-46ff-4065-ad04-3c2da479515d",
   "metadata": {},
   "source": [
    "Імпортування модулів:"
   ]
  },
  {
   "cell_type": "code",
   "execution_count": null,
   "id": "40be39f6-5b7c-49ed-bf49-a0c7940b5f0f",
   "metadata": {
    "tags": []
   },
   "outputs": [],
   "source": [
    "import pandas as pd\n",
    "import copy"
   ]
  },
  {
   "cell_type": "markdown",
   "id": "39c2ee10-b4c5-49ba-b935-e8ee9f7b0588",
   "metadata": {},
   "source": [
    "Завантаження файлів у dataframe:"
   ]
  },
  {
   "cell_type": "code",
   "execution_count": null,
   "id": "1d6de27c-d2aa-4ae5-870c-66e341c8a376",
   "metadata": {
    "tags": []
   },
   "outputs": [],
   "source": [
    "trains_dataframe = pd.read_csv(\"dataset/Regularities_by_liaisons_Trains_France.csv\")"
   ]
  },
  {
   "cell_type": "markdown",
   "id": "6d326612-83f8-4854-b4e0-c36c94eae1b3",
   "metadata": {},
   "source": [
    "Видалення колонок з коментарями:"
   ]
  },
  {
   "cell_type": "code",
   "execution_count": null,
   "id": "3308928c-d888-4353-9b59-dc060587add5",
   "metadata": {},
   "outputs": [],
   "source": [
    "trains_dataframe = trains_dataframe.drop(columns=['Comment (optional) delays at departure','Comment (optional) delays on arrival'])"
   ]
  },
  {
   "cell_type": "markdown",
   "id": "12c84013-62a3-4cd8-bcb5-6384e647d75b",
   "metadata": {},
   "source": [
    "Перевірка наявності NULL значень:"
   ]
  },
  {
   "cell_type": "code",
   "execution_count": null,
   "id": "1c39532e-12e7-4caf-8ce5-4a5304782956",
   "metadata": {},
   "outputs": [],
   "source": [
    "print(trains_dataframe.isnull().values.any())"
   ]
  },
  {
   "cell_type": "markdown",
   "id": "09d89eff-ae3d-45c4-9157-b035c09d6a2e",
   "metadata": {},
   "source": [
    "Візуалізація 10 значень з 4 колонок:"
   ]
  },
  {
   "cell_type": "code",
   "execution_count": null,
   "id": "33c7440d-4b19-4961-8687-bae0ecf15010",
   "metadata": {
    "tags": []
   },
   "outputs": [],
   "source": [
    "visualisation = trains_dataframe[0:11].style.hide(['Year', 'Month', 'Departure station', 'Arrival station',\n",
    "                                             'Number of expected circulations',\n",
    "                                             'Number of cancelled trains', 'Number of late trains at departure',\n",
    "                                             'Average delay of late departing trains (min)',\n",
    "                                             'Average delay of all departing trains (min)',\n",
    "                                             'Average delay of late arriving trains (min)',\n",
    "                                             '% trains late due to external causes (weather, obstacles, suspicious packages, malevolence, social movements, etc.)',\n",
    "                                             '% trains late due to railway infrastructure (maintenance, works)',\n",
    "                                             '% trains late due to traffic management (rail line traffic, network interactions)',\n",
    "                                             '% trains late due to rolling stock',\n",
    "                                             '% trains late due to station management and reuse of material',\n",
    "                                             '% trains late due to passenger traffic (affluence, PSH management, connections)',\n",
    "                                             'Number of late trains > 15min',\n",
    "                                             'Number of late trains > 30min', 'Number of late trains > 60min', 'Period',\n",
    "                                             'Delay due to external causes', 'Delay due to railway infrastructure',\n",
    "                                             'Delay due to traffic management', 'Delay due to rolling stock',\n",
    "                                             'Delay due to station management and reuse of material',\n",
    "                                             'Delay due to travellers taken into account','Period'], axis=\"columns\")\n",
    "\n",
    "visualisation.highlight_max(color='green').highlight_min(color='red')"
   ]
  },
  {
   "cell_type": "markdown",
   "id": "a1492bc1-66b6-4259-a6ea-8a5e6d465e39",
   "metadata": {},
   "source": [
    "Перезавантаження данних у dataframe, видалення колонок з коментарями та рядків із NULL значеннями. Оскільки менше 5% рядків містять NULL значення та оскільки більшість рядків з NULL значеннями мають більше половини NULL значень, то їх можна видалити."
   ]
  },
  {
   "cell_type": "code",
   "execution_count": null,
   "id": "7e5ae17b-4a91-4f32-a24c-ae0629666f59",
   "metadata": {},
   "outputs": [],
   "source": [
    "del trains_dataframe\n",
    "trains_dataframe = pd.read_csv(\"dataset/Regularities_by_liaisons_Trains_France.csv\")\n",
    "\n",
    "trains_dataframe = trains_dataframe.drop(columns=['Comment (optional) delays at departure','Comment (optional) delays on arrival'])\n",
    "trains_dataframe = trains_dataframe.dropna()\n",
    "print(trains_dataframe.isnull().values.any())\n",
    "trains_dataframe_numerical = trains_dataframe.drop(columns=['Year', 'Month', 'Departure station', 'Arrival station','Period'])"
   ]
  },
  {
   "cell_type": "markdown",
   "id": "e34521e3-a201-4125-806b-d5a24a4c107f",
   "metadata": {},
   "source": [
    "Функція стандартизації колонки значень:"
   ]
  },
  {
   "cell_type": "code",
   "execution_count": null,
   "id": "52bd27d7-e35c-407a-a529-5f8cce1d3ea6",
   "metadata": {
    "tags": []
   },
   "outputs": [],
   "source": [
    "def standartizatinator(input_column):\n",
    "    mean = input_column.mean()\n",
    "    \n",
    "    variation = input_column.var()\n",
    "    \n",
    "    return (input_column - mean)/variation"
   ]
  },
  {
   "cell_type": "markdown",
   "id": "4d7ed538-74b6-4e26-9fdb-8045d677b721",
   "metadata": {},
   "source": [
    "Використання створеної функції:"
   ]
  },
  {
   "cell_type": "code",
   "execution_count": null,
   "id": "7f8ca4de-ceb2-44e7-84dd-185e7a3d2dee",
   "metadata": {
    "tags": []
   },
   "outputs": [],
   "source": [
    "trains_dataframe_numerical_standart = trains_dataframe_numerical\n",
    "trains_dataframe_numerical_standart = standartizatinator(trains_dataframe_numerical)"
   ]
  },
  {
   "cell_type": "markdown",
   "id": "40398f13-a4d3-4bae-9cce-acac7c690a46",
   "metadata": {},
   "source": [
    "Імпортування бібліотек для візуалізації даних:"
   ]
  },
  {
   "cell_type": "code",
   "execution_count": null,
   "id": "41332229-b057-4b4e-a3d4-7f4bd49081b9",
   "metadata": {
    "tags": []
   },
   "outputs": [],
   "source": [
    "#import seaborn as waluigi\n",
    "import seaborn as sns\n",
    "import matplotlib.pyplot as plt"
   ]
  },
  {
   "cell_type": "markdown",
   "id": "04293640-6a5e-4a12-b7f5-ab4b49ab197f",
   "metadata": {},
   "source": [
    "Створення lineplot для перших 100 значень середньої тривалості поїздки та середньої затримки у стандартизованих значеннях:"
   ]
  },
  {
   "cell_type": "code",
   "execution_count": null,
   "id": "136ad1f1-f441-43e7-96de-e692ea364d1c",
   "metadata": {
    "tags": []
   },
   "outputs": [],
   "source": [
    "plt.figure(figsize=(10, 6))\n",
    "lineplot = sns.lineplot(trains_dataframe_numerical_standart.drop(['Number of expected circulations',\n",
    "                                             'Number of cancelled trains', 'Number of late trains at departure',\n",
    "                                             'Average delay of late departing trains (min)',\n",
    "                                             'Average delay of all departing trains (min)',\n",
    "                                             'Average delay of late arriving trains (min)',\n",
    "                                             '% trains late due to external causes (weather, obstacles, suspicious packages, malevolence, social movements, etc.)',\n",
    "                                             '% trains late due to railway infrastructure (maintenance, works)',\n",
    "                                             '% trains late due to traffic management (rail line traffic, network interactions)',\n",
    "                                             '% trains late due to rolling stock',\n",
    "                                             '% trains late due to station management and reuse of material',\n",
    "                                             '% trains late due to passenger traffic (affluence, PSH management, connections)',\n",
    "                                             'Number of late trains > 15min',\n",
    "                                             'Number of late trains > 30min', 'Number of late trains > 60min',\n",
    "                                             'Delay due to external causes', 'Delay due to railway infrastructure',\n",
    "                                             'Delay due to traffic management', 'Delay due to rolling stock',\n",
    "                                             'Delay due to station management and reuse of material',\n",
    "                                             'Delay due to travellers taken into account','Number of trains late on arrival','Average train delay > 15min'],axis='columns')[0:100])"
   ]
  },
  {
   "cell_type": "markdown",
   "id": "278bc143-7cae-4231-a599-9829fe75835f",
   "metadata": {
    "tags": []
   },
   "source": [
    "Створення barplot для відношення кількості потягів, які відправились з затримкою, до станцій"
   ]
  },
  {
   "cell_type": "code",
   "execution_count": null,
   "id": "6ec32847-823f-41b2-9d7e-71ab951b9112",
   "metadata": {
    "tags": []
   },
   "outputs": [],
   "source": [
    "plt.figure(figsize=(20, 6))\n",
    "barplot = sns.barplot(x = trains_dataframe['Departure station'], y = trains_dataframe_numerical['Number of late trains at departure'])\n",
    "locs, labels = plt.xticks()\n",
    "plt.setp(labels, rotation=90)\n",
    "barplot"
   ]
  },
  {
   "cell_type": "markdown",
   "id": "f1993952-dade-4010-a39e-c6d461dd7d71",
   "metadata": {
    "tags": []
   },
   "source": [
    "Створення heatmap для відношення середніх тривалостей поїздок до маршрутів:\n",
    "не працює :("
   ]
  },
  {
   "cell_type": "code",
   "execution_count": null,
   "id": "b9e1112d-38cc-42da-a0e6-dfdb5ea8020f",
   "metadata": {
    "tags": []
   },
   "outputs": [],
   "source": [
    "heatmap_df = trains_dataframe\n",
    "heatmap_df = heatmap_df.drop(['Number of expected circulations',\n",
    "                                             'Number of cancelled trains', 'Number of late trains at departure',\n",
    "                                             'Average delay of late departing trains (min)',\n",
    "                                             'Average delay of all departing trains (min)',\n",
    "                                             'Average delay of late arriving trains (min)',\n",
    "                                             '% trains late due to external causes (weather, obstacles, suspicious packages, malevolence, social movements, etc.)',\n",
    "                                             '% trains late due to railway infrastructure (maintenance, works)',\n",
    "                                             '% trains late due to traffic management (rail line traffic, network interactions)',\n",
    "                                             '% trains late due to rolling stock',\n",
    "                                             '% trains late due to station management and reuse of material',\n",
    "                                             '% trains late due to passenger traffic (affluence, PSH management, connections)',\n",
    "                                             'Number of late trains > 15min',\n",
    "                                             'Number of late trains > 30min', 'Number of late trains > 60min',\n",
    "                                             'Delay due to external causes', 'Delay due to railway infrastructure',\n",
    "                                             'Delay due to traffic management', 'Delay due to rolling stock',\n",
    "                                             'Delay due to station management and reuse of material',\n",
    "                                             'Delay due to travellers taken into account','Number of trains late on arrival','Average train delay > 15min','Year','Month','Period','Average delay of all arriving trains (min)'],axis='columns')\n",
    "heatmap_grouped = heatmap_df.groupby([heatmap_df['Departure station'],heatmap_df['Arrival station']], as_index=False).mean()\n",
    "heatmap_table = heatmap_grouped.pivot(index = 'Arrival station', columns = 'Departure station')\n",
    "sns.heatmap(heatmap_table)"
   ]
  },
  {
   "cell_type": "markdown",
   "id": "d5fece29-506d-4b10-9bf1-43b0302033b4",
   "metadata": {},
   "source": [
    "Гістограмма середньої затримки прибуваючих потягів для перших 200 маршрутів:"
   ]
  },
  {
   "cell_type": "code",
   "execution_count": null,
   "id": "0a09b910-2575-474d-bb13-23da253ac9f7",
   "metadata": {
    "tags": []
   },
   "outputs": [],
   "source": [
    "plt.figure(figsize=(10, 6))\n",
    "lineplot = sns.lineplot(trains_dataframe_numerical.drop(['Number of expected circulations',\n",
    "                                             'Number of cancelled trains', 'Number of late trains at departure',\n",
    "                                             'Average delay of late departing trains (min)',\n",
    "                                             'Average delay of all departing trains (min)',\n",
    "                                             'Average delay of late arriving trains (min)',\n",
    "                                             '% trains late due to external causes (weather, obstacles, suspicious packages, malevolence, social movements, etc.)',\n",
    "                                             '% trains late due to railway infrastructure (maintenance, works)',\n",
    "                                             '% trains late due to traffic management (rail line traffic, network interactions)',\n",
    "                                             '% trains late due to rolling stock',\n",
    "                                             '% trains late due to station management and reuse of material',\n",
    "                                             '% trains late due to passenger traffic (affluence, PSH management, connections)',\n",
    "                                             'Number of late trains > 15min',\n",
    "                                             'Number of late trains > 30min', 'Number of late trains > 60min',\n",
    "                                             'Delay due to external causes', 'Delay due to railway infrastructure',\n",
    "                                             'Delay due to traffic management', 'Delay due to rolling stock',\n",
    "                                             'Delay due to station management and reuse of material',\n",
    "                                             'Delay due to travellers taken into account','Number of trains late on arrival','Average train delay > 15min','Average travel time (min)'],axis='columns')[0:200],x = trains_dataframe['Departure station'][0:200], y=trains_dataframe.index[0:200])\n",
    "locs, labels = plt.xticks()\n",
    "plt.setp(labels, rotation=90)\n",
    "lineplot"
   ]
  },
  {
   "cell_type": "code",
   "execution_count": null,
   "id": "5abf0a0c-dc03-4c04-bd5e-dcb55cea9e7d",
   "metadata": {},
   "outputs": [],
   "source": []
  }
 ],
 "metadata": {
  "kernelspec": {
   "display_name": "Python 3 (ipykernel)",
   "language": "python",
   "name": "python3"
  },
  "language_info": {
   "codemirror_mode": {
    "name": "ipython",
    "version": 3
   },
   "file_extension": ".py",
   "mimetype": "text/x-python",
   "name": "python",
   "nbconvert_exporter": "python",
   "pygments_lexer": "ipython3",
   "version": "3.11.4"
  }
 },
 "nbformat": 4,
 "nbformat_minor": 5
}
