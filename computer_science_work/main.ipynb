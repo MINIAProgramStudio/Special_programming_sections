{
 "cells": [
  {
   "cell_type": "markdown",
   "id": "caba1740-46ff-4065-ad04-3c2da479515d",
   "metadata": {},
   "source": [
    "Імпортування модулів:"
   ]
  },
  {
   "cell_type": "code",
   "execution_count": 1,
   "id": "40be39f6-5b7c-49ed-bf49-a0c7940b5f0f",
   "metadata": {
    "tags": []
   },
   "outputs": [],
   "source": [
    "import pandas as pd\n",
    "import copy"
   ]
  },
  {
   "cell_type": "markdown",
   "id": "39c2ee10-b4c5-49ba-b935-e8ee9f7b0588",
   "metadata": {},
   "source": [
    "Завантаження файлів у dataframe:"
   ]
  },
  {
   "cell_type": "code",
   "execution_count": 2,
   "id": "1d6de27c-d2aa-4ae5-870c-66e341c8a376",
   "metadata": {
    "tags": []
   },
   "outputs": [],
   "source": [
    "trains_dataframe = pd.read_csv(\"dataset/Regularities_by_liaisons_Trains_France.csv\")"
   ]
  },
  {
   "cell_type": "markdown",
   "id": "6d326612-83f8-4854-b4e0-c36c94eae1b3",
   "metadata": {},
   "source": [
    "Видалення колонок з коментарями:"
   ]
  },
  {
   "cell_type": "code",
   "execution_count": 3,
   "id": "3308928c-d888-4353-9b59-dc060587add5",
   "metadata": {},
   "outputs": [],
   "source": [
    "trains_dataframe = trains_dataframe.drop(columns=['Comment (optional) delays at departure','Comment (optional) delays on arrival'])"
   ]
  },
  {
   "cell_type": "markdown",
   "id": "12c84013-62a3-4cd8-bcb5-6384e647d75b",
   "metadata": {},
   "source": [
    "Перевірка наявності NULL значень:"
   ]
  },
  {
   "cell_type": "code",
   "execution_count": 4,
   "id": "1c39532e-12e7-4caf-8ce5-4a5304782956",
   "metadata": {},
   "outputs": [
    {
     "name": "stdout",
     "output_type": "stream",
     "text": [
      "True\n"
     ]
    }
   ],
   "source": [
    "print(trains_dataframe.isnull().values.any())"
   ]
  },
  {
   "cell_type": "markdown",
   "id": "09d89eff-ae3d-45c4-9157-b035c09d6a2e",
   "metadata": {},
   "source": [
    "Візуалізація 10 значень з 4 колонок:"
   ]
  },
  {
   "cell_type": "code",
   "execution_count": 5,
   "id": "33c7440d-4b19-4961-8687-bae0ecf15010",
   "metadata": {
    "tags": []
   },
   "outputs": [
    {
     "data": {
      "text/html": [
       "<style type=\"text/css\">\n",
       "#T_cce7f_row3_col10, #T_cce7f_row3_col20, #T_cce7f_row8_col4, #T_cce7f_row9_col12 {\n",
       "  background-color: red;\n",
       "}\n",
       "#T_cce7f_row5_col4, #T_cce7f_row7_col20, #T_cce7f_row10_col10, #T_cce7f_row10_col12 {\n",
       "  background-color: green;\n",
       "}\n",
       "</style>\n",
       "<table id=\"T_cce7f\">\n",
       "  <thead>\n",
       "    <tr>\n",
       "      <th class=\"blank level0\" >&nbsp;</th>\n",
       "      <th id=\"T_cce7f_level0_col4\" class=\"col_heading level0 col4\" >Average travel time (min)</th>\n",
       "      <th id=\"T_cce7f_level0_col10\" class=\"col_heading level0 col10\" >Number of trains late on arrival</th>\n",
       "      <th id=\"T_cce7f_level0_col12\" class=\"col_heading level0 col12\" >Average delay of all arriving trains (min)</th>\n",
       "      <th id=\"T_cce7f_level0_col20\" class=\"col_heading level0 col20\" >Average train delay > 15min</th>\n",
       "    </tr>\n",
       "  </thead>\n",
       "  <tbody>\n",
       "    <tr>\n",
       "      <th id=\"T_cce7f_level0_row0\" class=\"row_heading level0 row0\" >0</th>\n",
       "      <td id=\"T_cce7f_row0_col4\" class=\"data row0 col4\" >131.914980</td>\n",
       "      <td id=\"T_cce7f_row0_col10\" class=\"data row0 col10\" >41.000000</td>\n",
       "      <td id=\"T_cce7f_row0_col12\" class=\"data row0 col12\" >5.233333</td>\n",
       "      <td id=\"T_cce7f_row0_col20\" class=\"data row0 col20\" >32.965873</td>\n",
       "    </tr>\n",
       "    <tr>\n",
       "      <th id=\"T_cce7f_level0_row1\" class=\"row_heading level0 row1\" >1</th>\n",
       "      <td id=\"T_cce7f_row1_col4\" class=\"data row1 col4\" >175.611570</td>\n",
       "      <td id=\"T_cce7f_row1_col10\" class=\"data row1 col10\" >47.000000</td>\n",
       "      <td id=\"T_cce7f_row1_col12\" class=\"data row1 col12\" >6.123967</td>\n",
       "      <td id=\"T_cce7f_row1_col20\" class=\"data row1 col20\" >32.057143</td>\n",
       "    </tr>\n",
       "    <tr>\n",
       "      <th id=\"T_cce7f_level0_row2\" class=\"row_heading level0 row2\" >2</th>\n",
       "      <td id=\"T_cce7f_row2_col4\" class=\"data row2 col4\" >62.395349</td>\n",
       "      <td id=\"T_cce7f_row2_col10\" class=\"data row2 col10\" >91.000000</td>\n",
       "      <td id=\"T_cce7f_row2_col12\" class=\"data row2 col12\" >4.430194</td>\n",
       "      <td id=\"T_cce7f_row2_col20\" class=\"data row2 col20\" >42.367241</td>\n",
       "    </tr>\n",
       "    <tr>\n",
       "      <th id=\"T_cce7f_level0_row3\" class=\"row_heading level0 row3\" >3</th>\n",
       "      <td id=\"T_cce7f_row3_col4\" class=\"data row3 col4\" >172.421053</td>\n",
       "      <td id=\"T_cce7f_row3_col10\" class=\"data row3 col10\" >15.000000</td>\n",
       "      <td id=\"T_cce7f_row3_col12\" class=\"data row3 col12\" >3.812135</td>\n",
       "      <td id=\"T_cce7f_row3_col20\" class=\"data row3 col20\" >27.620833</td>\n",
       "    </tr>\n",
       "    <tr>\n",
       "      <th id=\"T_cce7f_level0_row4\" class=\"row_heading level0 row4\" >4</th>\n",
       "      <td id=\"T_cce7f_row4_col4\" class=\"data row4 col4\" >67.310000</td>\n",
       "      <td id=\"T_cce7f_row4_col10\" class=\"data row4 col10\" >73.000000</td>\n",
       "      <td id=\"T_cce7f_row4_col12\" class=\"data row4 col12\" >4.176208</td>\n",
       "      <td id=\"T_cce7f_row4_col20\" class=\"data row4 col20\" >37.658333</td>\n",
       "    </tr>\n",
       "    <tr>\n",
       "      <th id=\"T_cce7f_level0_row5\" class=\"row_heading level0 row5\" >5</th>\n",
       "      <td id=\"T_cce7f_row5_col4\" class=\"data row5 col4\" >266.594737</td>\n",
       "      <td id=\"T_cce7f_row5_col10\" class=\"data row5 col10\" >28.000000</td>\n",
       "      <td id=\"T_cce7f_row5_col12\" class=\"data row5 col12\" >8.422105</td>\n",
       "      <td id=\"T_cce7f_row5_col20\" class=\"data row5 col20\" >47.343452</td>\n",
       "    </tr>\n",
       "    <tr>\n",
       "      <th id=\"T_cce7f_level0_row6\" class=\"row_heading level0 row6\" >6</th>\n",
       "      <td id=\"T_cce7f_row6_col4\" class=\"data row6 col4\" >265.262887</td>\n",
       "      <td id=\"T_cce7f_row6_col10\" class=\"data row6 col10\" >29.000000</td>\n",
       "      <td id=\"T_cce7f_row6_col12\" class=\"data row6 col12\" >8.407474</td>\n",
       "      <td id=\"T_cce7f_row6_col20\" class=\"data row6 col20\" >45.610920</td>\n",
       "    </tr>\n",
       "    <tr>\n",
       "      <th id=\"T_cce7f_level0_row7\" class=\"row_heading level0 row7\" >7</th>\n",
       "      <td id=\"T_cce7f_row7_col4\" class=\"data row7 col4\" >85.399381</td>\n",
       "      <td id=\"T_cce7f_row7_col10\" class=\"data row7 col10\" >52.000000</td>\n",
       "      <td id=\"T_cce7f_row7_col12\" class=\"data row7 col12\" >5.523633</td>\n",
       "      <td id=\"T_cce7f_row7_col20\" class=\"data row7 col20\" >60.874405</td>\n",
       "    </tr>\n",
       "    <tr>\n",
       "      <th id=\"T_cce7f_level0_row8\" class=\"row_heading level0 row8\" >8</th>\n",
       "      <td id=\"T_cce7f_row8_col4\" class=\"data row8 col4\" >46.305556</td>\n",
       "      <td id=\"T_cce7f_row8_col10\" class=\"data row8 col10\" >36.000000</td>\n",
       "      <td id=\"T_cce7f_row8_col12\" class=\"data row8 col12\" >5.154244</td>\n",
       "      <td id=\"T_cce7f_row8_col20\" class=\"data row8 col20\" >47.841667</td>\n",
       "    </tr>\n",
       "    <tr>\n",
       "      <th id=\"T_cce7f_level0_row9\" class=\"row_heading level0 row9\" >9</th>\n",
       "      <td id=\"T_cce7f_row9_col4\" class=\"data row9 col4\" >67.000000</td>\n",
       "      <td id=\"T_cce7f_row9_col10\" class=\"data row9 col10\" >30.000000</td>\n",
       "      <td id=\"T_cce7f_row9_col12\" class=\"data row9 col12\" >3.633051</td>\n",
       "      <td id=\"T_cce7f_row9_col20\" class=\"data row9 col20\" >35.613889</td>\n",
       "    </tr>\n",
       "    <tr>\n",
       "      <th id=\"T_cce7f_level0_row10\" class=\"row_heading level0 row10\" >10</th>\n",
       "      <td id=\"T_cce7f_row10_col4\" class=\"data row10 col4\" >187.298643</td>\n",
       "      <td id=\"T_cce7f_row10_col10\" class=\"data row10 col10\" >94.000000</td>\n",
       "      <td id=\"T_cce7f_row10_col12\" class=\"data row10 col12\" >15.283786</td>\n",
       "      <td id=\"T_cce7f_row10_col20\" class=\"data row10 col20\" >34.342593</td>\n",
       "    </tr>\n",
       "  </tbody>\n",
       "</table>\n"
      ],
      "text/plain": [
       "<pandas.io.formats.style.Styler at 0x297dabb3350>"
      ]
     },
     "execution_count": 5,
     "metadata": {},
     "output_type": "execute_result"
    }
   ],
   "source": [
    "visualisation = trains_dataframe[0:11].style.hide(['Year', 'Month', 'Departure station', 'Arrival station',\n",
    "                                             'Number of expected circulations',\n",
    "                                             'Number of cancelled trains', 'Number of late trains at departure',\n",
    "                                             'Average delay of late departing trains (min)',\n",
    "                                             'Average delay of all departing trains (min)',\n",
    "                                             'Average delay of late arriving trains (min)',\n",
    "                                             '% trains late due to external causes (weather, obstacles, suspicious packages, malevolence, social movements, etc.)',\n",
    "                                             '% trains late due to railway infrastructure (maintenance, works)',\n",
    "                                             '% trains late due to traffic management (rail line traffic, network interactions)',\n",
    "                                             '% trains late due to rolling stock',\n",
    "                                             '% trains late due to station management and reuse of material',\n",
    "                                             '% trains late due to passenger traffic (affluence, PSH management, connections)',\n",
    "                                             'Number of late trains > 15min',\n",
    "                                             'Number of late trains > 30min', 'Number of late trains > 60min', 'Period',\n",
    "                                             'Delay due to external causes', 'Delay due to railway infrastructure',\n",
    "                                             'Delay due to traffic management', 'Delay due to rolling stock',\n",
    "                                             'Delay due to station management and reuse of material',\n",
    "                                             'Delay due to travellers taken into account','Period'], axis=\"columns\")\n",
    "\n",
    "visualisation.highlight_max(color='green').highlight_min(color='red')"
   ]
  },
  {
   "cell_type": "markdown",
   "id": "a1492bc1-66b6-4259-a6ea-8a5e6d465e39",
   "metadata": {},
   "source": [
    "Перезавантаження данних у dataframe, видалення колонок з коментарями та рядків із NULL значеннями. Оскільки менше 5% рядків містять NULL значення та оскільки більшість рядків з NULL значеннями мають більше половини NULL значень, то їх можна видалити."
   ]
  },
  {
   "cell_type": "code",
   "execution_count": 14,
   "id": "7e5ae17b-4a91-4f32-a24c-ae0629666f59",
   "metadata": {},
   "outputs": [
    {
     "name": "stdout",
     "output_type": "stream",
     "text": [
      "False\n"
     ]
    }
   ],
   "source": [
    "del trains_dataframe\n",
    "trains_dataframe = pd.read_csv(\"dataset/Regularities_by_liaisons_Trains_France.csv\")\n",
    "\n",
    "trains_dataframe = trains_dataframe.drop(columns=['Comment (optional) delays at departure','Comment (optional) delays on arrival'])\n",
    "trains_dataframe = trains_dataframe.dropna()\n",
    "print(trains_dataframe.isnull().values.any())\n",
    "trains_dataframe_numerical = trains_dataframe.drop(columns=['Year', 'Month', 'Departure station', 'Arrival station','Period'])"
   ]
  },
  {
   "cell_type": "markdown",
   "id": "e34521e3-a201-4125-806b-d5a24a4c107f",
   "metadata": {},
   "source": [
    "Функція стандартизації колонки значень:"
   ]
  },
  {
   "cell_type": "code",
   "execution_count": 15,
   "id": "52bd27d7-e35c-407a-a529-5f8cce1d3ea6",
   "metadata": {
    "tags": []
   },
   "outputs": [],
   "source": [
    "def standartizatinator(input_column):\n",
    "    mean = input_column.mean()\n",
    "    \n",
    "    variation = input_column.var()\n",
    "    \n",
    "    return (input_column - mean)/variation"
   ]
  },
  {
   "cell_type": "markdown",
   "id": "4d7ed538-74b6-4e26-9fdb-8045d677b721",
   "metadata": {},
   "source": [
    "Тестування створеної функції:"
   ]
  },
  {
   "cell_type": "code",
   "execution_count": 16,
   "id": "7f8ca4de-ceb2-44e7-84dd-185e7a3d2dee",
   "metadata": {
    "tags": []
   },
   "outputs": [],
   "source": [
    "trains_dataframe_numerical_standart = trains_dataframe_numerical\n",
    "trains_dataframe_numerical_standart = standartizatinator(trains_dataframe_numerical)"
   ]
  }
 ],
 "metadata": {
  "kernelspec": {
   "display_name": "Python 3 (ipykernel)",
   "language": "python",
   "name": "python3"
  },
  "language_info": {
   "codemirror_mode": {
    "name": "ipython",
    "version": 3
   },
   "file_extension": ".py",
   "mimetype": "text/x-python",
   "name": "python",
   "nbconvert_exporter": "python",
   "pygments_lexer": "ipython3",
   "version": "3.11.4"
  }
 },
 "nbformat": 4,
 "nbformat_minor": 5
}
